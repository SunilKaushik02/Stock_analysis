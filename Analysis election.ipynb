{
 "cells": [
  {
   "cell_type": "code",
   "execution_count": 3,
   "metadata": {},
   "outputs": [],
   "source": [
    "# importing packages\n",
    "\n",
    "import numpy as np\n",
    "import pandas as pd\n",
    "import matplotlib.pyplot as plt\n",
    "import datetime as dt\n",
    "import nsepy\n",
    "import openpyxl\n",
    "import hvplot.pandas\n",
    "import os \n",
    "\n",
    "os.chdir(r'C:/Learning/Python practice')\n",
    "\n",
    "%matplotlib inline\n",
    "\n",
    "pd.options.plotting.backend='hvplot'"
   ]
  },
  {
   "cell_type": "code",
   "execution_count": null,
   "metadata": {},
   "outputs": [],
   "source": [
    "# getting raw file with date ranges\n",
    "\n",
    "start=dt.date(1995,1,1)\n",
    "end=dt.date(2020,2,14)\n",
    "\n",
    "# sbi=nsepy.get_history('SBIN',start=start,end=end)\n",
    "nifty=nsepy.get_history('NIFTY',start=dt.date(1992,1,1),end=dt.date(2020,1,1),index=1)\n",
    "\n",
    "nifty.describe()\n",
    "nifty.Close.hvplot()\n",
    "# sbi['Close'].hvplot()\n",
    "\n",
    "nifty['Returns']=nifty.Close.pct_change()*100\n",
    "nifty['Cumulative']=nifty.Returns.pct_change()"
   ]
  },
  {
   "cell_type": "code",
   "execution_count": null,
   "metadata": {},
   "outputs": [],
   "source": [
    "# exporting file to excel to keep a copy\n",
    "\n",
    "nifty.to_excel('C:/Learning/Python practice/nifty.xlsx',index=False)"
   ]
  },
  {
   "cell_type": "code",
   "execution_count": null,
   "metadata": {},
   "outputs": [],
   "source": [
    "# loading the same data again\n",
    "\n",
    "nifty=pd.read_excel(r'C:\\Learning\\Python practice\\nifty.xlsx')\n",
    "\n",
    "nifty.tail(3)"
   ]
  },
  {
   "cell_type": "code",
   "execution_count": null,
   "metadata": {},
   "outputs": [],
   "source": [
    "# creating datetime variable\n",
    "\n",
    "nifty['Date_time']=[dt.datetime.strptime(x,\"%Y-%m-%d\") for x in nifty['Date']]\n",
    "\n",
    "nifty.head(3)"
   ]
  },
  {
   "cell_type": "code",
   "execution_count": null,
   "metadata": {},
   "outputs": [],
   "source": [
    "# getting month year to be split at a later point\n",
    "\n",
    "nifty_month=nifty.set_index(['Date_time']).resample('M')['Close','High','Low'].mean()\n",
    "\n",
    "nifty_month['Month']=nifty_month.index.strftime('%m')\n",
    "\n",
    "nifty_month['Year']=nifty_month.index.strftime('%Y')\n",
    "\n",
    "nifty_month.head()"
   ]
  },
  {
   "cell_type": "code",
   "execution_count": null,
   "metadata": {},
   "outputs": [],
   "source": [
    "# month wise data for nifty\n",
    "\n",
    "nifty_month.to_excel(r'C:\\Learning\\Python practice\\Nifty_month.xlsx',index=False)"
   ]
  },
  {
   "cell_type": "code",
   "execution_count": null,
   "metadata": {},
   "outputs": [],
   "source": [
    "# plotting to see any patterns\n",
    "\n",
    "nifty_month[['Close','Year']].hvplot()"
   ]
  },
  {
   "cell_type": "code",
   "execution_count": null,
   "metadata": {},
   "outputs": [],
   "source": [
    "# groupby to check any patterns\n",
    "\n",
    "nifty_yearly=nifty_month.groupby(['Month'])['Close'].mean()"
   ]
  },
  {
   "cell_type": "code",
   "execution_count": null,
   "metadata": {},
   "outputs": [],
   "source": [
    "# hvplot allows hovering\n",
    "\n",
    "nifty_yearly.hvplot()"
   ]
  },
  {
   "cell_type": "markdown",
   "metadata": {},
   "source": [
    "# Analyze day of the month analysis\n",
    "    "
   ]
  },
  {
   "cell_type": "code",
   "execution_count": 12,
   "metadata": {},
   "outputs": [],
   "source": [
    "# trying to see if day of a month has any effect on the direction of nifty \n",
    "# hypothesis days closer to the expiry has not much directional movement\n",
    "\n",
    "nifty_month=nifty.set_index('Date_time').copy()\n",
    "\n",
    "nifty_month.head()\n",
    "\n",
    "nifty_month['Month']=nifty_month.index.strftime('%m')\n",
    "\n",
    "nifty_month['Year']=nifty_month.index.strftime('%Y')\n",
    "\n",
    "nifty_month['Day']=nifty_month.index.strftime('%d')\n",
    "\n",
    "nifty_month['Week_Day']=nifty_month.index.strftime('%a')\n",
    "\n",
    "nifty_month=nifty_month.reindex()"
   ]
  },
  {
   "cell_type": "code",
   "execution_count": 13,
   "metadata": {},
   "outputs": [
    {
     "data": {
      "text/plain": [
       "N    6753\n",
       "Name: Election_year, dtype: int64"
      ]
     },
     "execution_count": 13,
     "metadata": {},
     "output_type": "execute_result"
    }
   ],
   "source": [
    "# checking if election years are any different from the other years\n",
    "\n",
    "nifty_month['Election_year']=pd.Series(['Y' for i in nifty_month['Year'] if i in ['2009','2014','2019','2004',\n",
    "                                                                                  '1999','1998','1996']])\n",
    "\n",
    "nifty_month['Election_year']=nifty_month['Election_year'].replace(np.NaN,'N')\n",
    "\n",
    "nifty_month['Election_year'].value_counts()"
   ]
  },
  {
   "cell_type": "code",
   "execution_count": 14,
   "metadata": {},
   "outputs": [
    {
     "data": {
      "text/plain": [
       "<pandas.core.groupby.generic.SeriesGroupBy object at 0x228FD030>"
      ]
     },
     "execution_count": 14,
     "metadata": {},
     "output_type": "execute_result"
    }
   ],
   "source": [
    "# grouping by day of week and month\n",
    "\n",
    "nifty_month.groupby(['Month','Week_Day'],axis=0)['Returns']"
   ]
  },
  {
   "cell_type": "code",
   "execution_count": 20,
   "metadata": {},
   "outputs": [],
   "source": [
    "# trying to create a function to automate and analyze user defined date/month combinations\n",
    "\n",
    "group=nifty_month.groupby(['Day','Month'],axis=0)['Returns']\n",
    "\n",
    "group_dict=dict(list(group))\n",
    "\n",
    "def parser_func(day='06',month='01'):\n",
    "    global group_dict\n",
    "    print( group_dict[day,month])\n",
    "    print(\"the average return for the day and month combination is {}\".format(group_dict[day,month].mean()))\n",
    "    print()"
   ]
  },
  {
   "cell_type": "code",
   "execution_count": 32,
   "metadata": {},
   "outputs": [
    {
     "name": "stdout",
     "output_type": "stream",
     "text": [
      "Date_time\n",
      "1994-08-29    2.173537\n",
      "1996-08-29   -0.119756\n",
      "1997-08-29   -2.613141\n",
      "2000-08-29   -0.156951\n",
      "2001-08-29   -0.298884\n",
      "2002-08-29    0.157249\n",
      "2003-08-29    1.155811\n",
      "2005-08-29   -0.823063\n",
      "2006-08-29    0.723295\n",
      "2007-08-29    0.893374\n",
      "2008-08-29    3.464642\n",
      "2011-08-29    3.618518\n",
      "2012-08-29   -0.877292\n",
      "2013-08-29    2.347209\n",
      "2016-08-29    0.407113\n",
      "2017-08-29   -1.177770\n",
      "2018-08-29   -0.396984\n",
      "Name: Returns, dtype: float64\n",
      "the average return for the day and month combination is 0.49864161433104975\n",
      "\n"
     ]
    },
    ,
    {
     "data": {
      "image/png": "iVBORw0KGgoAAAANSUhEUgAAAXwAAAD8CAYAAAB0IB+mAAAABHNCSVQICAgIfAhkiAAAAAlwSFlzAAALEgAACxIB0t1+/AAAADl0RVh0U29mdHdhcmUAbWF0cGxvdGxpYiB2ZXJzaW9uIDMuMC4yLCBodHRwOi8vbWF0cGxvdGxpYi5vcmcvOIA7rQAADYBJREFUeJzt3HGI33d9x/Hny8ROprWO5QRJou1YuhrKoO7oOoRZ0Y20fyT/FEmguEppwK0OZhE6HCr1rylDELJptolT0Fr9Qw+J5A9X6RAjudJZmpTALTpzROhZu/5TtGZ774/fT++4XHLf3v3uLt77+YDA7/v7fX6/e+fD3TO/fH/3+6WqkCRtf6/a6gEkSZvD4EtSEwZfkpow+JLUhMGXpCYMviQ1sWrwk3wuyXNJnrnC7Uny6SRzSZ5O8rbJjylJWq8hz/A/Dxy4yu13AfvGf44C/7T+sSRJk7Zq8KvqCeBnV1lyCPhCjZwC3pDkTZMaUJI0GTsn8Bi7gQtLjufH1/1k+cIkRxn9L4DXvva1f3TLLbdM4MtLUh9PPvnkT6tqai33nUTws8J1K35eQ1UdB44DTE9P1+zs7AS+vCT1keS/13rfSfyWzjywd8nxHuDiBB5XkjRBkwj+DPDe8W/r3AG8WFWXnc6RJG2tVU/pJPkycCewK8k88FHg1QBV9RngBHA3MAe8BLxvo4aVJK3dqsGvqiOr3F7AX01sIknShvCdtpLUhMGXpCYMviQ1YfAlqQmDL0lNGHxJasLgS1ITBl+SmjD4ktSEwZekJgy+JDVh8CWpCYMvSU0YfElqwuBLUhMGX5KaMPiS1ITBl6QmDL4kNWHwJakJgy9JTRh8SWrC4EtSEwZfkpow+JLUhMGXpCYMviQ1YfAlqQmDL0lNGHxJasLgS1ITBl+SmjD4ktSEwZekJgy+JDUxKPhJDiQ5l2QuycMr3P7mJI8neSrJ00nunvyokqT1WDX4SXYAx4C7gP3AkST7ly37O+CxqroNOAz846QHlSStz5Bn+LcDc1V1vqpeBh4FDi1bU8Drx5dvAC5ObkRJ0iQMCf5u4MKS4/nxdUt9DLg3yTxwAvjASg+U5GiS2SSzCwsLaxhXkrRWQ4KfFa6rZcdHgM9X1R7gbuCLSS577Ko6XlXTVTU9NTX1yqeVJK3ZkODPA3uXHO/h8lM29wOPAVTV94DXALsmMaAkaTKGBP80sC/JTUmuY/Si7MyyNT8G3gWQ5K2Mgu85G0m6hqwa/Kq6BDwInASeZfTbOGeSPJLk4HjZQ8ADSX4AfBm4r6qWn/aRJG2hnUMWVdUJRi/GLr3uI0sunwXePtnRJEmT5DttJakJgy9JTRh8SWrC4EtSEwZfkpow+JLUhMGXpCYMviQ1YfAlqQmDL0lNGHxJasLgS1ITBl+SmjD4ktSEwZekJgy+JDVh8CWpCYMvSU0YfElqwuBLUhMGX5KaMPiS1ITBl6QmDL4kNWHwJakJgy9JTRh8SWrC4EtSEwZfkpow+JLUhMGXpCYMviQ1YfAlqQmDL0lNDAp+kgNJziWZS/LwFda8J8nZJGeSfGmyY0qS1mvnaguS7ACOAX8GzAOnk8xU1dkla/YBfwu8vapeSPLGjRpYkrQ2Q57h3w7MVdX5qnoZeBQ4tGzNA8CxqnoBoKqem+yYkqT1GhL83cCFJcfz4+uWuhm4Ocl3k5xKcmClB0pyNMlsktmFhYW1TSxJWpMhwc8K19Wy453APuBO4AjwL0necNmdqo5X1XRVTU9NTb3SWSVJ6zAk+PPA3iXHe4CLK6z5RlX9sqp+CJxj9A+AJOkaMST4p4F9SW5Kch1wGJhZtubrwDsBkuxidIrn/CQHlSStz6rBr6pLwIPASeBZ4LGqOpPkkSQHx8tOAs8nOQs8Dnyoqp7fqKElSa9cqpafjt8c09PTNTs7uyVfW5J+UyV5sqqm13Jf32krSU0YfElqwuBLUhMGX5KaMPiS1ITBl6QmDL4kNWHwJakJgy9JTRh8SWrC4EtSEwZfkpow+JLUhMGXpCYMviQ1YfAlqQmDL0lNGHxJasLgS1ITBl+SmjD4ktSEwZekJgy+JDVh8CWpCYMvSU0YfElqwuBLUhMGX5KaMPiS1ITBl6QmDL4kNWHwJakJgy9JTRh8SWrC4EtSE4OCn+RAknNJ5pI8fJV19ySpJNOTG1GSNAmrBj/JDuAYcBewHziSZP8K664H/hr4/qSHlCSt35Bn+LcDc1V1vqpeBh4FDq2w7uPAJ4CfT3A+SdKEDAn+buDCkuP58XW/luQ2YG9VffNqD5TkaJLZJLMLCwuveFhJ0toNCX5WuK5+fWPyKuBTwEOrPVBVHa+q6aqanpqaGj6lJGndhgR/Hti75HgPcHHJ8fXArcB3kvwIuAOY8YVbSbq2DAn+aWBfkpuSXAccBmZ+dWNVvVhVu6rqxqq6ETgFHKyq2Q2ZWJK0JqsGv6ouAQ8CJ4Fngceq6kySR5Ic3OgBJUmTsXPIoqo6AZxYdt1HrrD2zvWPJUmaNN9pK0lNGHxJasLgS1ITBl+SmjD4ktSEwZekJgy+JDVh8CWpCYMvSU0YfElqwuBLUhMGX5KaMPiS1ITBl6QmDL4kNWHwJakJgy9JTRh8SWrC4EtSEwZfkpow+JLUhMGXpCYMviQ1YfAlqQmDL0lNGHxJasLgS1ITBl+SmjD4ktSEwZekJgy+JDVh8CWpCYMvSU0YfElqYlDwkxxIci7JXJKHV7j9g0nOJnk6ybeTvGXyo0qS1mPV4CfZARwD7gL2A0eS7F+27Clguqr+EPga8IlJDypJWp8hz/BvB+aq6nxVvQw8ChxauqCqHq+ql8aHp4A9kx1TkrReQ4K/G7iw5Hh+fN2V3A98a6UbkhxNMptkdmFhYfiUkqR1GxL8rHBdrbgwuReYBj650u1VdbyqpqtqempqaviUkqR12zlgzTywd8nxHuDi8kVJ3g18GHhHVf1iMuNJkiZlyDP808C+JDcluQ44DMwsXZDkNuCzwMGqem7yY0qS1mvV4FfVJeBB4CTwLPBYVZ1J8kiSg+NlnwReB3w1yX8mmbnCw0mStsiQUzpU1QngxLLrPrLk8rsnPJckacJ8p60kNWHwJakJgy9JTRh8SWrC4EtSEwZfkpow+JLUhMGXpCYMviQ1YfAlqQmDL0lNGHxJasLgS1ITBl+SmjD4ktSEwZekJgy+JDVh8CWpCYMvSU0YfElqwuBLUhMGX5KaMPiS1ITBl6QmDL4kNWHwJakJgy9JTRh8SWrC4EtSEwZfkpow+JLUhMGXpCYMviQ1YfAlqQmDL0lNDAp+kgNJziWZS/LwCrf/VpKvjG//fpIbJz2oJGl9Vg1+kh3AMeAuYD9wJMn+ZcvuB16oqt8HPgX8/aQHlSStz5Bn+LcDc1V1vqpeBh4FDi1bcwj4t/HlrwHvSpLJjSlJWq+dA9bsBi4sOZ4H/vhKa6rqUpIXgd8Ffrp0UZKjwNHx4S+SPLOWobehXSzbq8bci0XuxSL3YtEfrPWOQ4K/0jP1WsMaquo4cBwgyWxVTQ/4+tuee7HIvVjkXixyLxYlmV3rfYec0pkH9i453gNcvNKaJDuBG4CfrXUoSdLkDQn+aWBfkpuSXAccBmaWrZkB/mJ8+R7g36vqsmf4kqSts+opnfE5+QeBk8AO4HNVdSbJI8BsVc0A/wp8Mckco2f2hwd87ePrmHu7cS8WuReL3ItF7sWiNe9FfCIuST34TltJasLgS1ITGx58P5Zh0YC9+GCSs0meTvLtJG/Zijk3w2p7sWTdPUkqybb9lbwhe5HkPePvjTNJvrTZM26WAT8jb07yeJKnxj8nd2/FnBstyeeSPHel9ypl5NPjfXo6ydsGPXBVbdgfRi/y/hfwe8B1wA+A/cvW/CXwmfHlw8BXNnKmrfozcC/eCfz2+PL7O+/FeN31wBPAKWB6q+fewu+LfcBTwO+Mj9+41XNv4V4cB94/vrwf+NFWz71Be/GnwNuAZ65w+93Atxi9B+oO4PtDHnejn+H7sQyLVt2Lqnq8ql4aH55i9J6H7WjI9wXAx4FPAD/fzOE22ZC9eAA4VlUvAFTVc5s842YZshcFvH58+QYuf0/QtlBVT3D19zIdAr5QI6eANyR502qPu9HBX+ljGXZfaU1VXQJ+9bEM282QvVjqfkb/gm9Hq+5FktuAvVX1zc0cbAsM+b64Gbg5yXeTnEpyYNOm21xD9uJjwL1J5oETwAc2Z7RrzivtCTDsoxXWY2Ify7ANDP57JrkXmAbesaETbZ2r7kWSVzH61NX7NmugLTTk+2Ino9M6dzL6X99/JLm1qv5ng2fbbEP24gjw+ar6hyR/wuj9P7dW1f9t/HjXlDV1c6Of4fuxDIuG7AVJ3g18GDhYVb/YpNk222p7cT1wK/CdJD9idI5yZpu+cDv0Z+QbVfXLqvohcI7RPwDbzZC9uB94DKCqvge8htEHq3UzqCfLbXTw/ViGRavuxfg0xmcZxX67nqeFVfaiql6sql1VdWNV3cjo9YyDVbXmD426hg35Gfk6oxf0SbKL0Sme85s65eYYshc/Bt4FkOStjIK/sKlTXhtmgPeOf1vnDuDFqvrJanfa0FM6tXEfy/AbZ+BefBJ4HfDV8evWP66qg1s29AYZuBctDNyLk8CfJzkL/C/woap6fuum3hgD9+Ih4J+T/A2jUxj3bccniEm+zOgU3q7x6xUfBV4NUFWfYfT6xd3AHPAS8L5Bj7sN90qStALfaStJTRh8SWrC4EtSEwZfkpow+JLUhMGXpCYMviQ18f+GmWq6NWLIwgAAAABJRU5ErkJggg==\n",
      "text/plain": [
       "<Figure size 432x288 with 1 Axes>"
      ]
     },
     "metadata": {
      "needs_background": "light"
     },
     "output_type": "display_data"
    }
   ],
   "source": [
    "parser_func('29','08')"
   ]
  },
  {
   "cell_type": "code",
   "execution_count": 31,
   "metadata": {},
   "outputs": [
    {
     "name": "stdout",
     "output_type": "stream",
     "text": [
      "Date_time\n",
      "1993-06-24   -0.213899\n",
      "1994-06-24   -1.056969\n",
      "1996-06-24   -0.919286\n",
      "1997-06-24    0.138684\n",
      "1998-06-24    3.757423\n",
      "1999-06-24   -0.993169\n",
      "2002-06-24   -0.065879\n",
      "2003-06-24   -0.353470\n",
      "2004-06-24    1.704585\n",
      "2005-06-24    0.480802\n",
      "2008-06-24   -1.764954\n",
      "2009-06-24    1.081940\n",
      "2010-06-24   -0.047904\n",
      "2011-06-24    2.843045\n",
      "2013-06-24   -1.365645\n",
      "2014-06-24    1.159028\n",
      "2015-06-24   -0.246971\n",
      "2016-06-24   -2.198792\n",
      "2019-06-24   -0.208545\n",
      "Name: Returns, dtype: float64\n",
      "the average return for the day and month combination is 0.09105388014001643\n",
      "\n"
     ]
    }
   ],
   "source": [
    "parser_func('24','06')"
   ]
  },
  {
   "cell_type": "code",
   "execution_count": 32,
   "metadata": {},
   "outputs": [
    {
     "name": "stdout",
     "output_type": "stream",
     "text": [
      "Date_time\n",
      "1992-06-25   -0.937057\n",
      "1993-06-25   -0.878416\n",
      "1996-06-25   -1.656813\n",
      "1997-06-25    0.571280\n",
      "1998-06-25    2.603192\n",
      "1999-06-25   -0.364006\n",
      "2001-06-25   -1.898589\n",
      "2002-06-25   -0.607430\n",
      "2003-06-25    1.962501\n",
      "2004-06-25    1.206867\n",
      "2006-06-25    0.249778\n",
      "2007-06-25    0.172858\n",
      "2008-06-25    1.468588\n",
      "2009-06-25   -1.190324\n",
      "2010-06-25   -0.968876\n",
      "2012-06-25   -0.610177\n",
      "2013-06-25    0.337194\n",
      "2014-06-25   -0.144455\n",
      "2015-06-25    0.444333\n",
      "2018-06-25   -0.548890\n",
      "2019-06-25    0.827375\n",
      "Name: Returns, dtype: float64\n",
      "the average return for the day and month combination is 0.0018540402071889975\n",
      "\n"
     ]
    }
   ],
   "source": [
    "parser_func('25','06')"
   ]
  },
  {
   "cell_type": "code",
   "execution_count": 33,
   "metadata": {},
   "outputs": [
    {
     "name": "stdout",
     "output_type": "stream",
     "text": [
      "Date_time\n",
      "1992-06-26   -0.423512\n",
      "1995-06-26   -1.713569\n",
      "1996-06-26   -0.703151\n",
      "1997-06-26    0.542215\n",
      "1998-06-26   -0.836775\n",
      "2000-06-26   -1.395870\n",
      "2001-06-26    2.774133\n",
      "2002-06-26   -1.061209\n",
      "2003-06-26    0.876519\n",
      "2006-06-26   -3.511130\n",
      "2007-06-26    0.617458\n",
      "2008-06-26    1.486132\n",
      "2009-06-26    3.150748\n",
      "2012-06-26    0.120243\n",
      "2013-06-26   -0.363695\n",
      "2014-06-26   -1.004723\n",
      "2015-06-26   -0.201238\n",
      "2018-06-26    0.062253\n",
      "2019-06-26    0.433181\n",
      "Name: Returns, dtype: float64\n",
      "the average return for the day and month combination is -0.06063103464338979\n",
      "\n"
     ]
    }
   ],
   "source": [
    "parser_func('26','06')"
   ]
  },
  {
   "cell_type": "code",
   "execution_count": 34,
   "metadata": {},
   "outputs": [
    {
     "name": "stdout",
     "output_type": "stream",
     "text": [
      "Date_time\n",
      "1994-06-27   -0.996007\n",
      "1995-06-27   -0.532090\n",
      "1996-06-27    0.638478\n",
      "1997-06-27    0.124123\n",
      "2000-06-27    0.182551\n",
      "2001-06-27   -0.045595\n",
      "2002-06-27    0.416587\n",
      "2003-06-27    0.824114\n",
      "2005-06-27    0.248365\n",
      "2006-06-27    1.333582\n",
      "2007-06-27   -0.507502\n",
      "2008-06-27   -4.152137\n",
      "2011-06-27    1.011652\n",
      "2012-06-27    0.412045\n",
      "2013-06-27    1.675703\n",
      "2014-06-27    0.208189\n",
      "2016-06-27    0.075415\n",
      "2017-06-27   -0.663711\n",
      "2018-06-27   -0.907685\n",
      "2019-06-27   -0.050643\n",
      "Name: Returns, dtype: float64\n",
      "the average return for the day and month combination is -0.03522834304498125\n",
      "\n"
     ]
    }
   ],
   "source": [
    "parser_func('27','06')"
   ]
  },
  {
   "cell_type": "code",
   "execution_count": 35,
   "metadata": {},
   "outputs": [
    {
     "name": "stdout",
     "output_type": "stream",
     "text": [
      "Date_time\n",
      "1993-06-28   -1.931191\n",
      "1994-06-28    0.897734\n",
      "1995-06-28    1.080220\n",
      "1996-06-28   -0.443656\n",
      "1999-06-28    1.291419\n",
      "2000-06-28    1.079557\n",
      "2001-06-28   -0.191588\n",
      "2002-06-28    0.882171\n",
      "2004-06-28    1.736648\n",
      "2005-06-28   -1.361487\n",
      "2006-06-28   -0.045265\n",
      "2007-06-28    0.423316\n",
      "2010-06-28    1.223181\n",
      "2011-06-28    0.338364\n",
      "2012-06-28    0.140998\n",
      "2013-06-28    2.813097\n",
      "2016-06-28    0.409527\n",
      "2017-06-28   -0.211851\n",
      "2018-06-28   -0.771220\n",
      "2019-06-28   -0.445043\n",
      "Name: Returns, dtype: float64\n",
      "the average return for the day and month combination is 0.34574645586342867\n",
      "\n"
     ]
    }
   ],
   "source": [
    "parser_func('28','06')"
   ]
  },
  {
   "cell_type": "code",
   "execution_count": 36,
   "metadata": {},
   "outputs": [
    {
     "name": "stdout",
     "output_type": "stream",
     "text": [
      "Date_time\n",
      "1993-06-30    0.868908\n",
      "1994-06-30   -1.084599\n",
      "1995-06-30   -1.228948\n",
      "1997-06-30    1.945026\n",
      "1998-06-30   -0.784954\n",
      "1999-06-30   -0.302191\n",
      "2000-06-30   -1.400476\n",
      "2003-06-30    0.764071\n",
      "2004-06-30   -0.836462\n",
      "2005-06-30    1.320923\n",
      "2006-06-30    4.346376\n",
      "2008-06-30   -2.323136\n",
      "2009-06-30   -2.273995\n",
      "2010-06-30    1.072077\n",
      "2011-06-30    0.838325\n",
      "2014-06-30    1.365731\n",
      "2015-06-30    0.602279\n",
      "2016-06-30    1.020843\n",
      "2017-06-30    0.176766\n",
      "Name: Returns, dtype: float64\n",
      "the average return for the day and month combination is 0.21508239572331175\n",
      "\n"
     ]
    }
   ],
   "source": [
    "parser_func('30','06')"
   ]
  },
  {
   "cell_type": "code",
   "execution_count": 37,
   "metadata": {},
   "outputs": [
    {
     "name": "stdout",
     "output_type": "stream",
     "text": [
      "Date_time\n",
      "1993-06-29    2.046324\n",
      "1994-06-29   -1.759271\n",
      "1995-06-29   -0.380792\n",
      "1998-06-29    2.677557\n",
      "1999-06-29   -0.075491\n",
      "2000-06-29    1.520408\n",
      "2001-06-29    1.270567\n",
      "2004-06-29    0.260838\n",
      "2005-06-29    1.004678\n",
      "2006-06-29    0.563550\n",
      "2007-06-29    0.847735\n",
      "2009-06-29    0.353103\n",
      "2010-06-29   -1.450267\n",
      "2011-06-29    0.994536\n",
      "2012-06-29    2.519833\n",
      "2015-06-29   -0.748112\n",
      "2016-06-29    0.936902\n",
      "2017-06-29    0.135388\n",
      "2018-06-29    1.182348\n",
      "Name: Returns, dtype: float64\n",
      "the average return for the day and month combination is 0.6263070153326042\n",
      "\n"
     ]
    }
   ],
   "source": [
    "parser_func('29','06')"
   ]
  },
  {
   "cell_type": "markdown",
   "metadata": {},
   "source": [
    "# Use only month "
   ]
  },
  {
   "cell_type": "code",
   "execution_count": null,
   "metadata": {},
   "outputs": [],
   "source": [
    "# creating same function with only month and removing day of month\n",
    "\n",
    "def parser_func_month(month='01'):\n",
    "    global group_dict\n",
    "    print( group_dict[month])\n",
    "    print(\"the average return for the day and month combination is {}\".format(group_dict[month].mean()))\n",
    "    print()"
   ]
  },
  {
   "cell_type": "code",
   "execution_count": null,
   "metadata": {},
   "outputs": [],
   "source": [
    "nifty_month.groupby(['Month','Year'],axis=0)['Returns'].mean().unstack().hvplot()"
   ]
  },
  {
   "cell_type": "code",
   "execution_count": null,
   "metadata": {},
   "outputs": [],
   "source": [
    "nifty_month.groupby(['Month','Year'],axis=0)['Returns'].median()['08']"
   ]
  },
  {
   "cell_type": "code",
   "execution_count": null,
   "metadata": {},
   "outputs": [],
   "source": [
    "nifty_month[(nifty_month.Month==\"08\")&(nifty_month.Year==\"2018\")]"
   ]
  }
 ],
 "metadata": {
  "kernelspec": {
   "display_name": "Python 3",
   "language": "python",
   "name": "python3"
  },
  "language_info": {
   "codemirror_mode": {
    "name": "ipython",
    "version": 3
   },
   "file_extension": ".py",
   "mimetype": "text/x-python",
   "name": "python",
   "nbconvert_exporter": "python",
   "pygments_lexer": "ipython3",
   "version": "3.7.5"
  }
 },
 "nbformat": 4,
 "nbformat_minor": 2
}
