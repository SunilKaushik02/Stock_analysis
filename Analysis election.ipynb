{
 "cells": [
  {
   "cell_type": "code",
   "execution_count": 10,
   "metadata": {},
   "outputs": [],
   "source": [
    "# importing packages\n",
    "\n",
    "import numpy as np\n",
    "import pandas as pd\n",
    "import matplotlib.pyplot as plt\n",
    "import datetime as dt\n",
    "import nsepy\n",
    "import openpyxl\n",
    "import hvplot.pandas\n",
    "import os \n",
    "\n",
    "os.chdir(r'C:/Learning/Python practice')\n",
    "\n",
    "%matplotlib inline\n",
    "\n",
    "pd.options.plotting.backend='hvplot'"
   ]
  },
  {
   "cell_type": "code",
   "execution_count": 16,
   "metadata": {},
   "outputs": [],
   "source": [
    "# getting raw file with date ranges\n",
    "\n",
    "start=dt.date(1995,1,1)\n",
    "end=dt.date(2020,2,14)\n",
    "\n",
    "# sbi=nsepy.get_history('SBIN',start=start,end=end)\n",
    "nifty=nsepy.get_history(symbol='NIFTY',start=dt.date(2019,1,1),end=dt.date(2020,1,1),index=True).reset_index()\n",
    "\n",
    "# nifty.describe()\n",
    "# nifty.Close.hvplot()\n",
    "# # sbi['Close'].hvplot()\n",
    "\n",
    "# nifty['Returns']=nifty.Close.pct_change()*100\n",
    "# nifty['Cumulative']=nifty.Returns.pct_change()"
   ]
  },
  {
   "cell_type": "code",
   "execution_count": 17,
   "metadata": {},
   "outputs": [],
   "source": [
    "# exporting file to excel to keep a copy\n",
    "\n",
    "nifty.to_excel('C:/Learning/Python practice/nifty.xlsx',index=False)"
   ]
  },
  {
   "cell_type": "code",
   "execution_count": 18,
   "metadata": {},
   "outputs": [
    {
     "data": {
      "text/html": [
       "<div>\n",
       "<style scoped>\n",
       "    .dataframe tbody tr th:only-of-type {\n",
       "        vertical-align: middle;\n",
       "    }\n",
       "\n",
       "    .dataframe tbody tr th {\n",
       "        vertical-align: top;\n",
       "    }\n",
       "\n",
       "    .dataframe thead th {\n",
       "        text-align: right;\n",
       "    }\n",
       "</style>\n",
       "<table border=\"1\" class=\"dataframe\">\n",
       "  <thead>\n",
       "    <tr style=\"text-align: right;\">\n",
       "      <th></th>\n",
       "      <th>Date</th>\n",
       "      <th>Open</th>\n",
       "      <th>High</th>\n",
       "      <th>Low</th>\n",
       "      <th>Close</th>\n",
       "      <th>Volume</th>\n",
       "      <th>Turnover</th>\n",
       "    </tr>\n",
       "  </thead>\n",
       "  <tbody>\n",
       "    <tr>\n",
       "      <th>243</th>\n",
       "      <td>2019-12-30</td>\n",
       "      <td>12274.90</td>\n",
       "      <td>12286.45</td>\n",
       "      <td>12213.8</td>\n",
       "      <td>12255.85</td>\n",
       "      <td>411084614</td>\n",
       "      <td>145567300000</td>\n",
       "    </tr>\n",
       "    <tr>\n",
       "      <th>244</th>\n",
       "      <td>2019-12-31</td>\n",
       "      <td>12247.10</td>\n",
       "      <td>12247.10</td>\n",
       "      <td>12151.8</td>\n",
       "      <td>12168.45</td>\n",
       "      <td>426931711</td>\n",
       "      <td>148128900000</td>\n",
       "    </tr>\n",
       "    <tr>\n",
       "      <th>245</th>\n",
       "      <td>2020-01-01</td>\n",
       "      <td>12202.15</td>\n",
       "      <td>12222.20</td>\n",
       "      <td>12165.3</td>\n",
       "      <td>12182.50</td>\n",
       "      <td>304078039</td>\n",
       "      <td>104456800000</td>\n",
       "    </tr>\n",
       "  </tbody>\n",
       "</table>\n",
       "</div>"
      ],
      "text/plain": [
       "          Date      Open      High      Low     Close     Volume      Turnover\n",
       "243 2019-12-30  12274.90  12286.45  12213.8  12255.85  411084614  145567300000\n",
       "244 2019-12-31  12247.10  12247.10  12151.8  12168.45  426931711  148128900000\n",
       "245 2020-01-01  12202.15  12222.20  12165.3  12182.50  304078039  104456800000"
      ]
     },
     "execution_count": 18,
     "metadata": {},
     "output_type": "execute_result"
    }
   ],
   "source": [
    "# loading the same data again\n",
    "\n",
    "nifty=pd.read_excel(r'C:\\Learning\\Python practice\\nifty.xlsx')\n",
    "\n",
    "nifty.tail(3)"
   ]
  },
  {
   "cell_type": "code",
   "execution_count": 20,
   "metadata": {},
   "outputs": [],
   "source": [
    "# # creating datetime variable\n",
    "\n",
    "# nifty['Date_time']=[dt.datetime.strptime(x,\"%Y-%m-%d\") for x in nifty['Date']]\n",
    "\n",
    "# nifty.head(3)"
   ]
  },
  {
   "cell_type": "code",
   "execution_count": 21,
   "metadata": {},
   "outputs": [
    {
     "data": {
      "text/html": [
       "<div>\n",
       "<style scoped>\n",
       "    .dataframe tbody tr th:only-of-type {\n",
       "        vertical-align: middle;\n",
       "    }\n",
       "\n",
       "    .dataframe tbody tr th {\n",
       "        vertical-align: top;\n",
       "    }\n",
       "\n",
       "    .dataframe thead th {\n",
       "        text-align: right;\n",
       "    }\n",
       "</style>\n",
       "<table border=\"1\" class=\"dataframe\">\n",
       "  <thead>\n",
       "    <tr style=\"text-align: right;\">\n",
       "      <th></th>\n",
       "      <th>Close</th>\n",
       "      <th>High</th>\n",
       "      <th>Low</th>\n",
       "      <th>Month</th>\n",
       "      <th>Year</th>\n",
       "    </tr>\n",
       "    <tr>\n",
       "      <th>Date</th>\n",
       "      <th></th>\n",
       "      <th></th>\n",
       "      <th></th>\n",
       "      <th></th>\n",
       "      <th></th>\n",
       "    </tr>\n",
       "  </thead>\n",
       "  <tbody>\n",
       "    <tr>\n",
       "      <th>2019-01-31</th>\n",
       "      <td>10809.463043</td>\n",
       "      <td>10861.900000</td>\n",
       "      <td>10750.984783</td>\n",
       "      <td>01</td>\n",
       "      <td>2019</td>\n",
       "    </tr>\n",
       "    <tr>\n",
       "      <th>2019-02-28</th>\n",
       "      <td>10833.840000</td>\n",
       "      <td>10891.947500</td>\n",
       "      <td>10781.597500</td>\n",
       "      <td>02</td>\n",
       "      <td>2019</td>\n",
       "    </tr>\n",
       "    <tr>\n",
       "      <th>2019-03-31</th>\n",
       "      <td>11317.242105</td>\n",
       "      <td>11350.397368</td>\n",
       "      <td>11253.897368</td>\n",
       "      <td>03</td>\n",
       "      <td>2019</td>\n",
       "    </tr>\n",
       "    <tr>\n",
       "      <th>2019-04-30</th>\n",
       "      <td>11666.452632</td>\n",
       "      <td>11722.126316</td>\n",
       "      <td>11616.115789</td>\n",
       "      <td>04</td>\n",
       "      <td>2019</td>\n",
       "    </tr>\n",
       "    <tr>\n",
       "      <th>2019-05-31</th>\n",
       "      <td>11592.022727</td>\n",
       "      <td>11676.856818</td>\n",
       "      <td>11523.375000</td>\n",
       "      <td>05</td>\n",
       "      <td>2019</td>\n",
       "    </tr>\n",
       "  </tbody>\n",
       "</table>\n",
       "</div>"
      ],
      "text/plain": [
       "                   Close          High           Low Month  Year\n",
       "Date                                                            \n",
       "2019-01-31  10809.463043  10861.900000  10750.984783    01  2019\n",
       "2019-02-28  10833.840000  10891.947500  10781.597500    02  2019\n",
       "2019-03-31  11317.242105  11350.397368  11253.897368    03  2019\n",
       "2019-04-30  11666.452632  11722.126316  11616.115789    04  2019\n",
       "2019-05-31  11592.022727  11676.856818  11523.375000    05  2019"
      ]
     },
     "execution_count": 21,
     "metadata": {},
     "output_type": "execute_result"
    }
   ],
   "source": [
    "# getting month year to be split at a later point\n",
    "\n",
    "nifty_month=nifty.set_index(['Date']).resample('M')['Close','High','Low'].mean()\n",
    "\n",
    "nifty_month['Month']=nifty_month.index.strftime('%m')\n",
    "\n",
    "nifty_month['Year']=nifty_month.index.strftime('%Y')\n",
    "\n",
    "nifty_month.head()"
   ]
  },
  {
   "cell_type": "code",
   "execution_count": 22,
   "metadata": {},
   "outputs": [],
   "source": [
    "# month wise data for nifty\n",
    "\n",
    "nifty_month.to_excel(r'C:\\Learning\\Python practice\\Nifty_month.xlsx',index=True)"
   ]
  },
  {
   "cell_type": "code",
   "execution_count": 23,
   "metadata": {},
   "outputs": [
    {
     "data": {
      "application/vnd.holoviews_exec.v0+json": "",
      "text/html": [
       "<div id='1004' style='display: table; margin: 0 auto;'>\n",
       "\n",
       "\n",
       "\n",
       "\n",
       "\n",
       "  <div class=\"bk-root\" id=\"566e75fd-d433-4e5d-91f9-63b4763e5e65\" data-root-id=\"1004\"></div>\n",
       "</div>\n",
       "<script type=\"application/javascript\">(function(root) {\n",
       "  function embed_document(root) {\n",
       "    \n",
       "  var docs_json = {\"9218435b-61cb-4a9d-8ee6-c167eff78f5c\":{\"roots\":{\"references\":[{\"attributes\":{\"align\":null,\"below\":[{\"id\":\"1013\",\"type\":\"DatetimeAxis\"}],\"center\":[{\"id\":\"1017\",\"type\":\"Grid\"},{\"id\":\"1022\",\"type\":\"Grid\"}],\"left\":[{\"id\":\"1018\",\"type\":\"LinearAxis\"}],\"margin\":null,\"min_border_bottom\":10,\"min_border_left\":10,\"min_border_right\":10,\"min_border_top\":10,\"plot_height\":300,\"plot_width\":700,\"renderers\":[{\"id\":\"1041\",\"type\":\"GlyphRenderer\"}],\"sizing_mode\":\"fixed\",\"title\":{\"id\":\"1005\",\"type\":\"Title\"},\"toolbar\":{\"id\":\"1028\",\"type\":\"Toolbar\"},\"x_range\":{\"id\":\"1001\",\"type\":\"Range1d\"},\"x_scale\":{\"id\":\"1009\",\"type\":\"LinearScale\"},\"y_range\":{\"id\":\"1002\",\"type\":\"Range1d\"},\"y_scale\":{\"id\":\"1011\",\"type\":\"LinearScale\"}},\"id\":\"1004\",\"subtype\":\"Figure\",\"type\":\"Plot\"},{\"attributes\":{\"bottom_units\":\"screen\",\"fill_alpha\":{\"value\":0.5},\"fill_color\":{\"value\":\"lightgrey\"},\"left_units\":\"screen\",\"level\":\"overlay\",\"line_alpha\":{\"value\":1.0},\"line_color\":{\"value\":\"black\"},\"line_dash\":[4,4],\"line_width\":{\"value\":2},\"render_mode\":\"css\",\"right_units\":\"screen\",\"top_units\":\"screen\"},\"id\":\"1066\",\"type\":\"BoxAnnotation\"},{\"attributes\":{\"overlay\":{\"id\":\"1066\",\"type\":\"BoxAnnotation\"}},\"id\":\"1026\",\"type\":\"BoxZoomTool\"},{\"attributes\":{\"callback\":null,\"end\":1580428800000.0,\"reset_end\":1580428800000.0,\"reset_start\":1548892800000.0,\"start\":1548892800000.0,\"tags\":[[[\"Date\",\"Date\",null]]]},\"id\":\"1001\",\"type\":\"Range1d\"},{\"attributes\":{},\"id\":\"1025\",\"type\":\"WheelZoomTool\"},{\"attributes\":{\"grid_line_color\":null,\"ticker\":{\"id\":\"1014\",\"type\":\"DatetimeTicker\"}},\"id\":\"1017\",\"type\":\"Grid\"},{\"attributes\":{\"dimension\":1,\"grid_line_color\":null,\"ticker\":{\"id\":\"1019\",\"type\":\"BasicTicker\"}},\"id\":\"1022\",\"type\":\"Grid\"},{\"attributes\":{},\"id\":\"1023\",\"type\":\"SaveTool\"},{\"attributes\":{\"days\":[1,4,7,10,13,16,19,22,25,28]},\"id\":\"1058\",\"type\":\"DaysTicker\"},{\"attributes\":{\"num_minor_ticks\":5,\"tickers\":[{\"id\":\"1054\",\"type\":\"AdaptiveTicker\"},{\"id\":\"1055\",\"type\":\"AdaptiveTicker\"},{\"id\":\"1056\",\"type\":\"AdaptiveTicker\"},{\"id\":\"1057\",\"type\":\"DaysTicker\"},{\"id\":\"1058\",\"type\":\"DaysTicker\"},{\"id\":\"1059\",\"type\":\"DaysTicker\"},{\"id\":\"1060\",\"type\":\"DaysTicker\"},{\"id\":\"1061\",\"type\":\"MonthsTicker\"},{\"id\":\"1062\",\"type\":\"MonthsTicker\"},{\"id\":\"1063\",\"type\":\"MonthsTicker\"},{\"id\":\"1064\",\"type\":\"MonthsTicker\"},{\"id\":\"1065\",\"type\":\"YearsTicker\"}]},\"id\":\"1014\",\"type\":\"DatetimeTicker\"},{\"attributes\":{\"days\":[1,2,3,4,5,6,7,8,9,10,11,12,13,14,15,16,17,18,19,20,21,22,23,24,25,26,27,28,29,30,31]},\"id\":\"1057\",\"type\":\"DaysTicker\"},{\"attributes\":{\"base\":24,\"mantissas\":[1,2,4,6,8,12],\"max_interval\":43200000.0,\"min_interval\":3600000.0,\"num_minor_ticks\":0},\"id\":\"1056\",\"type\":\"AdaptiveTicker\"},{\"attributes\":{\"base\":60,\"mantissas\":[1,2,5,10,15,20,30],\"max_interval\":1800000.0,\"min_interval\":1000.0,\"num_minor_ticks\":0},\"id\":\"1055\",\"type\":\"AdaptiveTicker\"},{\"attributes\":{\"callback\":null,\"data\":{\"Close\":{\"__ndarray__\":\"4TkCRbscxUBSuB6F6yjFQLglTv2eGsZAW+LU7znJxkCMLrroAqTGQNOOFQiDH8dAXFL5MI6BxkABAAAAQHDFQGBDeQ0lusVA2KNwPRpxxkBcj8L1EF7HQMIwDMNwoMdAAAAAAEDLx0A=\",\"dtype\":\"float64\",\"shape\":[13]},\"Date\":{\"__ndarray__\":\"AABASBOKdkIAAEBpFpN2QgAAgLsQnXZCAAAAqLimdkIAAED6srB2QgAAwOZaunZCAAAAOVXEdkIAAECLT852QgAAwHf313ZCAAAAyvHhdkIAAIC2met2QgAAwAiU9XZCAAAAW47/dkI=\",\"dtype\":\"float64\",\"shape\":[13]},\"Date_dt_strings\":[\"2019-01-31 00:00:00\",\"2019-02-28 00:00:00\",\"2019-03-31 00:00:00\",\"2019-04-30 00:00:00\",\"2019-05-31 00:00:00\",\"2019-06-30 00:00:00\",\"2019-07-31 00:00:00\",\"2019-08-31 00:00:00\",\"2019-09-30 00:00:00\",\"2019-10-31 00:00:00\",\"2019-11-30 00:00:00\",\"2019-12-31 00:00:00\",\"2020-01-31 00:00:00\"]},\"selected\":{\"id\":\"1036\",\"type\":\"Selection\"},\"selection_policy\":{\"id\":\"1052\",\"type\":\"UnionRenderers\"}},\"id\":\"1035\",\"type\":\"ColumnDataSource\"},{\"attributes\":{\"axis_label\":\"Close\",\"bounds\":\"auto\",\"formatter\":{\"id\":\"1046\",\"type\":\"BasicTickFormatter\"},\"major_label_orientation\":\"horizontal\",\"ticker\":{\"id\":\"1019\",\"type\":\"BasicTicker\"}},\"id\":\"1018\",\"type\":\"LinearAxis\"},{\"attributes\":{\"callback\":null,\"end\":12182.5,\"reset_end\":12182.5,\"reset_start\":10809.463043478261,\"start\":10809.463043478261,\"tags\":[[[\"Close\",\"Close\",null]]]},\"id\":\"1002\",\"type\":\"Range1d\"},{\"attributes\":{\"source\":{\"id\":\"1035\",\"type\":\"ColumnDataSource\"}},\"id\":\"1042\",\"type\":\"CDSView\"},{\"attributes\":{\"axis_label\":\"Date\",\"bounds\":\"auto\",\"formatter\":{\"id\":\"1044\",\"type\":\"DatetimeTickFormatter\"},\"major_label_orientation\":\"horizontal\",\"ticker\":{\"id\":\"1014\",\"type\":\"DatetimeTicker\"}},\"id\":\"1013\",\"type\":\"DatetimeAxis\"},{\"attributes\":{},\"id\":\"1011\",\"type\":\"LinearScale\"},{\"attributes\":{},\"id\":\"1009\",\"type\":\"LinearScale\"},{\"attributes\":{},\"id\":\"1019\",\"type\":\"BasicTicker\"},{\"attributes\":{},\"id\":\"1036\",\"type\":\"Selection\"},{\"attributes\":{},\"id\":\"1024\",\"type\":\"PanTool\"},{\"attributes\":{\"months\":[0,4,8]},\"id\":\"1063\",\"type\":\"MonthsTicker\"},{\"attributes\":{\"line_alpha\":0.2,\"line_color\":\"#1f77b3\",\"line_width\":2,\"x\":{\"field\":\"Date\"},\"y\":{\"field\":\"Close\"}},\"id\":\"1040\",\"type\":\"Line\"},{\"attributes\":{\"months\":[0,2,4,6,8,10]},\"id\":\"1062\",\"type\":\"MonthsTicker\"},{\"attributes\":{\"line_color\":\"#1f77b3\",\"line_width\":2,\"x\":{\"field\":\"Date\"},\"y\":{\"field\":\"Close\"}},\"id\":\"1038\",\"type\":\"Line\"},{\"attributes\":{},\"id\":\"1027\",\"type\":\"ResetTool\"},{\"attributes\":{\"mantissas\":[1,2,5],\"max_interval\":500.0,\"num_minor_ticks\":0},\"id\":\"1054\",\"type\":\"AdaptiveTicker\"},{\"attributes\":{},\"id\":\"1065\",\"type\":\"YearsTicker\"},{\"attributes\":{\"line_alpha\":0.1,\"line_color\":\"#1f77b3\",\"line_width\":2,\"x\":{\"field\":\"Date\"},\"y\":{\"field\":\"Close\"}},\"id\":\"1039\",\"type\":\"Line\"},{\"attributes\":{\"data_source\":{\"id\":\"1035\",\"type\":\"ColumnDataSource\"},\"glyph\":{\"id\":\"1038\",\"type\":\"Line\"},\"hover_glyph\":null,\"muted_glyph\":{\"id\":\"1040\",\"type\":\"Line\"},\"nonselection_glyph\":{\"id\":\"1039\",\"type\":\"Line\"},\"selection_glyph\":null,\"view\":{\"id\":\"1042\",\"type\":\"CDSView\"}},\"id\":\"1041\",\"type\":\"GlyphRenderer\"},{\"attributes\":{},\"id\":\"1046\",\"type\":\"BasicTickFormatter\"},{\"attributes\":{},\"id\":\"1044\",\"type\":\"DatetimeTickFormatter\"},{\"attributes\":{\"months\":[0,1,2,3,4,5,6,7,8,9,10,11]},\"id\":\"1061\",\"type\":\"MonthsTicker\"},{\"attributes\":{\"callback\":null,\"renderers\":[{\"id\":\"1041\",\"type\":\"GlyphRenderer\"}],\"tags\":[\"hv_created\"],\"tooltips\":[[\"Date\",\"@{Date_dt_strings}\"],[\"Close\",\"@{Close}\"]]},\"id\":\"1003\",\"type\":\"HoverTool\"},{\"attributes\":{\"text\":\"\",\"text_color\":{\"value\":\"black\"},\"text_font_size\":{\"value\":\"12pt\"}},\"id\":\"1005\",\"type\":\"Title\"},{\"attributes\":{\"days\":[1,15]},\"id\":\"1060\",\"type\":\"DaysTicker\"},{\"attributes\":{\"months\":[0,6]},\"id\":\"1064\",\"type\":\"MonthsTicker\"},{\"attributes\":{\"days\":[1,8,15,22]},\"id\":\"1059\",\"type\":\"DaysTicker\"},{\"attributes\":{\"active_drag\":\"auto\",\"active_inspect\":\"auto\",\"active_multi\":null,\"active_scroll\":\"auto\",\"active_tap\":\"auto\",\"tools\":[{\"id\":\"1003\",\"type\":\"HoverTool\"},{\"id\":\"1023\",\"type\":\"SaveTool\"},{\"id\":\"1024\",\"type\":\"PanTool\"},{\"id\":\"1025\",\"type\":\"WheelZoomTool\"},{\"id\":\"1026\",\"type\":\"BoxZoomTool\"},{\"id\":\"1027\",\"type\":\"ResetTool\"}]},\"id\":\"1028\",\"type\":\"Toolbar\"},{\"attributes\":{},\"id\":\"1052\",\"type\":\"UnionRenderers\"}],\"root_ids\":[\"1004\"]},\"title\":\"Bokeh Application\",\"version\":\"1.4.0\"}};\n",
       "  var render_items = [{\"docid\":\"9218435b-61cb-4a9d-8ee6-c167eff78f5c\",\"roots\":{\"1004\":\"566e75fd-d433-4e5d-91f9-63b4763e5e65\"}}];\n",
       "  root.Bokeh.embed.embed_items_notebook(docs_json, render_items);\n",
       "\n",
       "  }\n",
       "  if (root.Bokeh !== undefined) {\n",
       "    embed_document(root);\n",
       "  } else {\n",
       "    var attempts = 0;\n",
       "    var timer = setInterval(function(root) {\n",
       "      if (root.Bokeh !== undefined) {\n",
       "        clearInterval(timer);\n",
       "        embed_document(root);\n",
       "      } else {\n",
       "        attempts++;\n",
       "        if (attempts > 100) {\n",
       "          clearInterval(timer);\n",
       "          console.log(\"Bokeh: ERROR: Unable to run BokehJS code because BokehJS library is missing\");\n",
       "        }\n",
       "      }\n",
       "    }, 10, root)\n",
       "  }\n",
       "})(window);</script>"
      ],
      "text/plain": [
       ":Curve   [Date]   (Close)"
      ]
     },
     "execution_count": 23,
     "metadata": {
      "application/vnd.holoviews_exec.v0+json": {
       "id": "1004"
      }
     },
     "output_type": "execute_result"
    }
   ],
   "source": [
    "# plotting to see any patterns\n",
    "\n",
    "nifty_month[['Close','Year']].hvplot()"
   ]
  },
  {
   "cell_type": "code",
   "execution_count": null,
   "metadata": {},
   "outputs": [],
   "source": [
    "# groupby to check any patterns\n",
    "\n",
    "nifty_yearly=nifty_month.groupby(['Month'])['Close'].mean()"
   ]
  },
  {
   "cell_type": "code",
   "execution_count": null,
   "metadata": {},
   "outputs": [],
   "source": [
    "# hvplot allows hovering\n",
    "\n",
    "nifty_yearly.hvplot()"
   ]
  },
  {
   "cell_type": "markdown",
   "metadata": {},
   "source": [
    "# Analyze day of the month analysis\n",
    "    "
   ]
  },
  {
   "cell_type": "code",
   "execution_count": 12,
   "metadata": {},
   "outputs": [],
   "source": [
    "# trying to see if day of a month has any effect on the direction of nifty \n",
    "# hypothesis days closer to the expiry has not much directional movement\n",
    "\n",
    "nifty_month=nifty.set_index('Date_time').copy()\n",
    "\n",
    "nifty_month.head()\n",
    "\n",
    "nifty_month['Month']=nifty_month.index.strftime('%m')\n",
    "\n",
    "nifty_month['Year']=nifty_month.index.strftime('%Y')\n",
    "\n",
    "nifty_month['Day']=nifty_month.index.strftime('%d')\n",
    "\n",
    "nifty_month['Week_Day']=nifty_month.index.strftime('%a')\n",
    "\n",
    "nifty_month=nifty_month.reindex()"
   ]
  },
  {
   "cell_type": "code",
   "execution_count": 13,
   "metadata": {},
   "outputs": [
    {
     "data": {
      "text/plain": [
       "N    6753\n",
       "Name: Election_year, dtype: int64"
      ]
     },
     "execution_count": 13,
     "metadata": {},
     "output_type": "execute_result"
    }
   ],
   "source": [
    "# checking if election years are any different from the other years\n",
    "\n",
    "nifty_month['Election_year']=pd.Series(['Y' for i in nifty_month['Year'] if i in ['2009','2014','2019','2004',\n",
    "                                                                                  '1999','1998','1996']])\n",
    "\n",
    "nifty_month['Election_year']=nifty_month['Election_year'].replace(np.NaN,'N')\n",
    "\n",
    "nifty_month['Election_year'].value_counts()"
   ]
  },
  {
   "cell_type": "code",
   "execution_count": 14,
   "metadata": {},
   "outputs": [
    {
     "data": {
      "text/plain": [
       "<pandas.core.groupby.generic.SeriesGroupBy object at 0x228FD030>"
      ]
     },
     "execution_count": 14,
     "metadata": {},
     "output_type": "execute_result"
    }
   ],
   "source": [
    "# grouping by day of week and month\n",
    "\n",
    "nifty_month.groupby(['Month','Week_Day'],axis=0)['Returns']"
   ]
  },
  {
   "cell_type": "code",
   "execution_count": 20,
   "metadata": {},
   "outputs": [],
   "source": [
    "# trying to create a function to automate and analyze user defined date/month combinations\n",
    "\n",
    "group=nifty_month.groupby(['Day','Month'],axis=0)['Returns']\n",
    "\n",
    "group_dict=dict(list(group))\n",
    "\n",
    "def parser_func(day='06',month='01'):\n",
    "    global group_dict\n",
    "    print( group_dict[day,month])\n",
    "    print(\"the average return for the day and month combination is {}\".format(group_dict[day,month].mean()))\n",
    "    print()"
   ]
  },
  {
   "cell_type": "code",
   "execution_count": 31,
   "metadata": {},
   "outputs": [
    {
     "name": "stdout",
     "output_type": "stream",
     "text": [
      "Date_time\n",
      "1993-06-24   -0.213899\n",
      "1994-06-24   -1.056969\n",
      "1996-06-24   -0.919286\n",
      "1997-06-24    0.138684\n",
      "1998-06-24    3.757423\n",
      "1999-06-24   -0.993169\n",
      "2002-06-24   -0.065879\n",
      "2003-06-24   -0.353470\n",
      "2004-06-24    1.704585\n",
      "2005-06-24    0.480802\n",
      "2008-06-24   -1.764954\n",
      "2009-06-24    1.081940\n",
      "2010-06-24   -0.047904\n",
      "2011-06-24    2.843045\n",
      "2013-06-24   -1.365645\n",
      "2014-06-24    1.159028\n",
      "2015-06-24   -0.246971\n",
      "2016-06-24   -2.198792\n",
      "2019-06-24   -0.208545\n",
      "Name: Returns, dtype: float64\n",
      "the average return for the day and month combination is 0.09105388014001643\n",
      "\n"
     ]
    }
   ],
   "source": [
    "parser_func('24','06')"
   ]
  },
  {
   "cell_type": "code",
   "execution_count": 32,
   "metadata": {},
   "outputs": [
    {
     "name": "stdout",
     "output_type": "stream",
     "text": [
      "Date_time\n",
      "1992-06-25   -0.937057\n",
      "1993-06-25   -0.878416\n",
      "1996-06-25   -1.656813\n",
      "1997-06-25    0.571280\n",
      "1998-06-25    2.603192\n",
      "1999-06-25   -0.364006\n",
      "2001-06-25   -1.898589\n",
      "2002-06-25   -0.607430\n",
      "2003-06-25    1.962501\n",
      "2004-06-25    1.206867\n",
      "2006-06-25    0.249778\n",
      "2007-06-25    0.172858\n",
      "2008-06-25    1.468588\n",
      "2009-06-25   -1.190324\n",
      "2010-06-25   -0.968876\n",
      "2012-06-25   -0.610177\n",
      "2013-06-25    0.337194\n",
      "2014-06-25   -0.144455\n",
      "2015-06-25    0.444333\n",
      "2018-06-25   -0.548890\n",
      "2019-06-25    0.827375\n",
      "Name: Returns, dtype: float64\n",
      "the average return for the day and month combination is 0.0018540402071889975\n",
      "\n"
     ]
    }
   ],
   "source": [
    "parser_func('25','06')"
   ]
  },
  {
   "cell_type": "code",
   "execution_count": 33,
   "metadata": {},
   "outputs": [
    {
     "name": "stdout",
     "output_type": "stream",
     "text": [
      "Date_time\n",
      "1992-06-26   -0.423512\n",
      "1995-06-26   -1.713569\n",
      "1996-06-26   -0.703151\n",
      "1997-06-26    0.542215\n",
      "1998-06-26   -0.836775\n",
      "2000-06-26   -1.395870\n",
      "2001-06-26    2.774133\n",
      "2002-06-26   -1.061209\n",
      "2003-06-26    0.876519\n",
      "2006-06-26   -3.511130\n",
      "2007-06-26    0.617458\n",
      "2008-06-26    1.486132\n",
      "2009-06-26    3.150748\n",
      "2012-06-26    0.120243\n",
      "2013-06-26   -0.363695\n",
      "2014-06-26   -1.004723\n",
      "2015-06-26   -0.201238\n",
      "2018-06-26    0.062253\n",
      "2019-06-26    0.433181\n",
      "Name: Returns, dtype: float64\n",
      "the average return for the day and month combination is -0.06063103464338979\n",
      "\n"
     ]
    }
   ],
   "source": [
    "parser_func('26','06')"
   ]
  },
  {
   "cell_type": "code",
   "execution_count": 34,
   "metadata": {},
   "outputs": [
    {
     "name": "stdout",
     "output_type": "stream",
     "text": [
      "Date_time\n",
      "1994-06-27   -0.996007\n",
      "1995-06-27   -0.532090\n",
      "1996-06-27    0.638478\n",
      "1997-06-27    0.124123\n",
      "2000-06-27    0.182551\n",
      "2001-06-27   -0.045595\n",
      "2002-06-27    0.416587\n",
      "2003-06-27    0.824114\n",
      "2005-06-27    0.248365\n",
      "2006-06-27    1.333582\n",
      "2007-06-27   -0.507502\n",
      "2008-06-27   -4.152137\n",
      "2011-06-27    1.011652\n",
      "2012-06-27    0.412045\n",
      "2013-06-27    1.675703\n",
      "2014-06-27    0.208189\n",
      "2016-06-27    0.075415\n",
      "2017-06-27   -0.663711\n",
      "2018-06-27   -0.907685\n",
      "2019-06-27   -0.050643\n",
      "Name: Returns, dtype: float64\n",
      "the average return for the day and month combination is -0.03522834304498125\n",
      "\n"
     ]
    }
   ],
   "source": [
    "parser_func('27','06')"
   ]
  },
  {
   "cell_type": "code",
   "execution_count": 35,
   "metadata": {},
   "outputs": [
    {
     "name": "stdout",
     "output_type": "stream",
     "text": [
      "Date_time\n",
      "1993-06-28   -1.931191\n",
      "1994-06-28    0.897734\n",
      "1995-06-28    1.080220\n",
      "1996-06-28   -0.443656\n",
      "1999-06-28    1.291419\n",
      "2000-06-28    1.079557\n",
      "2001-06-28   -0.191588\n",
      "2002-06-28    0.882171\n",
      "2004-06-28    1.736648\n",
      "2005-06-28   -1.361487\n",
      "2006-06-28   -0.045265\n",
      "2007-06-28    0.423316\n",
      "2010-06-28    1.223181\n",
      "2011-06-28    0.338364\n",
      "2012-06-28    0.140998\n",
      "2013-06-28    2.813097\n",
      "2016-06-28    0.409527\n",
      "2017-06-28   -0.211851\n",
      "2018-06-28   -0.771220\n",
      "2019-06-28   -0.445043\n",
      "Name: Returns, dtype: float64\n",
      "the average return for the day and month combination is 0.34574645586342867\n",
      "\n"
     ]
    }
   ],
   "source": [
    "parser_func('28','06')"
   ]
  },
  {
   "cell_type": "code",
   "execution_count": 36,
   "metadata": {},
   "outputs": [
    {
     "name": "stdout",
     "output_type": "stream",
     "text": [
      "Date_time\n",
      "1993-06-30    0.868908\n",
      "1994-06-30   -1.084599\n",
      "1995-06-30   -1.228948\n",
      "1997-06-30    1.945026\n",
      "1998-06-30   -0.784954\n",
      "1999-06-30   -0.302191\n",
      "2000-06-30   -1.400476\n",
      "2003-06-30    0.764071\n",
      "2004-06-30   -0.836462\n",
      "2005-06-30    1.320923\n",
      "2006-06-30    4.346376\n",
      "2008-06-30   -2.323136\n",
      "2009-06-30   -2.273995\n",
      "2010-06-30    1.072077\n",
      "2011-06-30    0.838325\n",
      "2014-06-30    1.365731\n",
      "2015-06-30    0.602279\n",
      "2016-06-30    1.020843\n",
      "2017-06-30    0.176766\n",
      "Name: Returns, dtype: float64\n",
      "the average return for the day and month combination is 0.21508239572331175\n",
      "\n"
     ]
    }
   ],
   "source": [
    "parser_func('30','06')"
   ]
  },
  {
   "cell_type": "code",
   "execution_count": 37,
   "metadata": {},
   "outputs": [
    {
     "name": "stdout",
     "output_type": "stream",
     "text": [
      "Date_time\n",
      "1993-06-29    2.046324\n",
      "1994-06-29   -1.759271\n",
      "1995-06-29   -0.380792\n",
      "1998-06-29    2.677557\n",
      "1999-06-29   -0.075491\n",
      "2000-06-29    1.520408\n",
      "2001-06-29    1.270567\n",
      "2004-06-29    0.260838\n",
      "2005-06-29    1.004678\n",
      "2006-06-29    0.563550\n",
      "2007-06-29    0.847735\n",
      "2009-06-29    0.353103\n",
      "2010-06-29   -1.450267\n",
      "2011-06-29    0.994536\n",
      "2012-06-29    2.519833\n",
      "2015-06-29   -0.748112\n",
      "2016-06-29    0.936902\n",
      "2017-06-29    0.135388\n",
      "2018-06-29    1.182348\n",
      "Name: Returns, dtype: float64\n",
      "the average return for the day and month combination is 0.6263070153326042\n",
      "\n"
     ]
    }
   ],
   "source": [
    "parser_func('29','06')"
   ]
  },
  {
   "cell_type": "markdown",
   "metadata": {},
   "source": [
    "# Use only month "
   ]
  },
  {
   "cell_type": "code",
   "execution_count": null,
   "metadata": {},
   "outputs": [],
   "source": [
    "# creating same function with only month and removing day of month\n",
    "\n",
    "def parser_func_month(month='01'):\n",
    "    global group_dict\n",
    "    print( group_dict[month])\n",
    "    print(\"the average return for the day and month combination is {}\".format(group_dict[month].mean()))\n",
    "    print()"
   ]
  },
  {
   "cell_type": "code",
   "execution_count": null,
   "metadata": {},
   "outputs": [],
   "source": [
    "nifty_month.groupby(['Month','Year'],axis=0)['Returns'].mean().unstack().hvplot()"
   ]
  },
  {
   "cell_type": "code",
   "execution_count": null,
   "metadata": {},
   "outputs": [],
   "source": [
    "nifty_month.groupby(['Month','Year'],axis=0)['Returns'].median()['08']"
   ]
  },
  {
   "cell_type": "code",
   "execution_count": null,
   "metadata": {},
   "outputs": [],
   "source": [
    "nifty_month[(nifty_month.Month==\"08\")&(nifty_month.Year==\"2018\")]"
   ]
  }
 ],
 "metadata": {
  "kernelspec": {
   "display_name": "Python 3",
   "language": "python",
   "name": "python3"
  },
  "language_info": {
   "codemirror_mode": {
    "name": "ipython",
    "version": 3
   },
   "file_extension": ".py",
   "mimetype": "text/x-python",
   "name": "python",
   "nbconvert_exporter": "python",
   "pygments_lexer": "ipython3",
   "version": "3.7.5"
  }
 },
 "nbformat": 4,
 "nbformat_minor": 2
}
